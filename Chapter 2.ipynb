{
 "cells": [
  {
   "cell_type": "code",
   "execution_count": null,
   "metadata": {},
   "outputs": [],
   "source": [
    "## Run this code.\n",
    "## For now, you do not need to understand what this code here does.\n",
    "## We return to this in later weeks.\n",
    "\n",
    "import urllib.request\n",
    "\n",
    "datafiles = ['mp.csv','mp2.csv', 'male.txt', 'female.txt']\n",
    "path = 'https://raw.githubusercontent.com/matnel/python-social-science-intro/master/data/'\n",
    "\n",
    "for d in datafiles:\n",
    "    urllib.request.urlretrieve( path + d, d)"
   ]
  },
  {
   "cell_type": "markdown",
   "metadata": {},
   "source": [
    "## Going through a file\n",
    "\n",
    "In Python (and various other programming languages), the best way to read a file is to go through it **line by line**.\n",
    "In terms of executing this computationally, we must instruct the computer to execute the same type of commands on each of these lines, for example print the line.\n",
    "\n",
    "![](scratch/chapter2_simple.png \"\")\n",
    "\n",
    "With the code above, variable `line` has first the value of the first line in the file.\n",
    "Then after executing the code and _looping_ back to begin, the value of `line` changes to the second line in the file.\n",
    "This goes on as long as there are lines in the file."
   ]
  },
  {
   "cell_type": "code",
   "execution_count": null,
   "metadata": {},
   "outputs": [],
   "source": [
    "for line in open('mp.csv'):\n",
    "    line = line.strip() ## this method clean the text and removes any extra spaces before and after the first character\n",
    "    print( line )"
   ]
  },
  {
   "cell_type": "markdown",
   "metadata": {},
   "source": [
    "## Calculating with for loops\n",
    "\n",
    "**Task**: Explain the differences between these two code examples to someone nearby you.\n",
    "\n",
    "If it helps you to think, `articles.csv` contains article title and number of women names in the article, separated by a comma.\n",
    "The file does not include any articles which have zero women names.\n",
    "\n",
    "![](scratch/chapter2_sum.png \"\")\n",
    "\n",
    "![](scratch/chapter2_count.png \"\")"
   ]
  },
  {
   "cell_type": "markdown",
   "metadata": {},
   "source": [
    "## A different kind of looping\n",
    "\n",
    "Sometimes we do not have a file, but rather we want to execute the same line of code several times.\n",
    "\n",
    "**Task** Run the two examples below and explain to yourself what happens.\n",
    "Ask Matti for help if needed."
   ]
  },
  {
   "cell_type": "code",
   "execution_count": null,
   "metadata": {},
   "outputs": [],
   "source": [
    "for i in range(10):\n",
    "    print(\"It works\")"
   ]
  },
  {
   "cell_type": "code",
   "execution_count": null,
   "metadata": {},
   "outputs": [],
   "source": [
    "for i in range(10):\n",
    "    print(\"It works\", i)"
   ]
  },
  {
   "cell_type": "markdown",
   "metadata": {},
   "source": [
    "## Some advanced operations\n",
    "\n",
    "Check out what these do."
   ]
  },
  {
   "cell_type": "code",
   "execution_count": null,
   "metadata": {},
   "outputs": [],
   "source": [
    "var = \"Cat\"\n",
    "varb = \"Cat has fun\"\n",
    "\n",
    "print( varb.count('a') )\n",
    "\n",
    "if var in varb:\n",
    "    print(\"There is a cat\")\n",
    "    \n",
    "if var == varb:\n",
    "    print(\"The two texts are the same\")\n",
    "else:\n",
    "    print(\"The two texts differ\")"
   ]
  },
  {
   "cell_type": "code",
   "execution_count": null,
   "metadata": {},
   "outputs": [],
   "source": []
  }
 ],
 "metadata": {
  "kernelspec": {
   "display_name": "Python 3",
   "language": "python",
   "name": "python3"
  },
  "language_info": {
   "codemirror_mode": {
    "name": "ipython",
    "version": 3
   },
   "file_extension": ".py",
   "mimetype": "text/x-python",
   "name": "python",
   "nbconvert_exporter": "python",
   "pygments_lexer": "ipython3",
   "version": "3.7.1"
  }
 },
 "nbformat": 4,
 "nbformat_minor": 2
}
