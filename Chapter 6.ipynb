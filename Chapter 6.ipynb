{
 "cells": [
  {
   "cell_type": "markdown",
   "metadata": {},
   "source": [
    "## Writing to files\n",
    "\n",
    "Often you may need to store outputs to files.\n",
    "There are several ways to do this, including **non-structured** ext files or **structured** files, where the computer can easily re-read the file back to machine readable format."
   ]
  },
  {
   "cell_type": "code",
   "execution_count": null,
   "metadata": {},
   "outputs": [],
   "source": [
    "out = open('example.txt', 'w')\n",
    "\n",
    "for i in range(10):\n",
    "    out.write( str(i) + '\\n')\n",
    "    ## note that we need to move the number i to text (str)\n",
    "    ## we also add a new line character in the end of each file (\\n)\n",
    "    \n",
    "out.close()"
   ]
  },
  {
   "cell_type": "markdown",
   "metadata": {},
   "source": [
    "Often if we do need to work on files later on.\n",
    "In these cases we want to utilize structured files.\n",
    "A good examples are both comma-separated values (or `CSV`) files or javascript object notation (or `JSON`)."
   ]
  },
  {
   "cell_type": "code",
   "execution_count": null,
   "metadata": {},
   "outputs": [],
   "source": [
    "import json\n",
    "\n",
    "a = [1,2,3,4,5]\n",
    "\n",
    "json.dump( a, open('example.json', 'w') )\n",
    "\n",
    "b = json.load( open('example.json') )\n",
    "\n",
    "print( b )"
   ]
  },
  {
   "cell_type": "markdown",
   "metadata": {},
   "source": [
    "## Functions\n",
    "\n",
    "Now for each task we have started from scratch.\n",
    "However, sometimes you can generalize particular tasks into re-callable functions.\n",
    "For example `max` or `min` have been this type of functions.\n",
    "You can also create your own functions.\n",
    "\n",
    "Some reasons to create a function include\n",
    "\n",
    "* you think you have a bit of code which you are going to reuse several times\n",
    "* you want to clarify the problem solving process by dividing the problem in to several subproblems"
   ]
  },
  {
   "cell_type": "code",
   "execution_count": null,
   "metadata": {},
   "outputs": [],
   "source": [
    "def example_function( input_variable ):\n",
    "    return 2 * input_variable"
   ]
  },
  {
   "cell_type": "code",
   "execution_count": null,
   "metadata": {},
   "outputs": [],
   "source": [
    "a = 5\n",
    "b = example_function( a )\n",
    "\n",
    "print( a, b)"
   ]
  },
  {
   "cell_type": "markdown",
   "metadata": {},
   "source": [
    "## Libraries\n",
    "\n",
    "Beyond functions, sometimes developers have a set of various functions related to a particular problem called libraries.\n",
    "There are several libraries for different needs.\n",
    "You can search them from [PyPI](https://pypi.org/) (or Google) for your various needs.\n",
    "You'll need to install them to your own machine, how to do it depends on your configuration.\n",
    "\n",
    "One of them is [BeautifulSoup4](https://pypi.org/project/beautifulsoup4/) which is meant to parse websites (HTML)."
   ]
  },
  {
   "cell_type": "code",
   "execution_count": null,
   "metadata": {},
   "outputs": [],
   "source": [
    "from bs4 import BeautifulSoup ## this line here says that we want to use BeautifulSoup4\n",
    "import urllib.request ## and this line here says that we want to use urllib as well\n",
    "\n",
    "website = urllib.request.urlopen('http://example.com')\n",
    "website = BeautifulSoup( website.read(), 'html.parser' )\n",
    "\n",
    "print( website.title.string )\n",
    "\n",
    "links = website.find_all('a')\n",
    "\n",
    "for link in links:\n",
    "    print( link.get('href') ) ## the link goes to this site\n",
    "    print( link.string ) ## this is what the link says"
   ]
  }
 ],
 "metadata": {
  "kernelspec": {
   "display_name": "Python 3",
   "language": "python",
   "name": "python3"
  },
  "language_info": {
   "codemirror_mode": {
    "name": "ipython",
    "version": 3
   },
   "file_extension": ".py",
   "mimetype": "text/x-python",
   "name": "python",
   "nbconvert_exporter": "python",
   "pygments_lexer": "ipython3",
   "version": "3.7.1"
  }
 },
 "nbformat": 4,
 "nbformat_minor": 2
}
