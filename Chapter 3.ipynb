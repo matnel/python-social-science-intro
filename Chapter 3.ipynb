{
 "cells": [
  {
   "cell_type": "code",
   "execution_count": null,
   "metadata": {},
   "outputs": [],
   "source": [
    "## Run this code.\n",
    "## For now, you do not need to understand what this code here does.\n",
    "## We return to this in later weeks.\n",
    "\n",
    "import urllib.request\n",
    "\n",
    "datafiles = ['votes.csv', 'votes_per_district.csv']\n",
    "path = 'https://raw.githubusercontent.com/matnel/python-social-science-intro/master/data/'\n",
    "\n",
    "for d in datafiles:\n",
    "    urllib.request.urlretrieve( path + d, d)"
   ]
  },
  {
   "cell_type": "markdown",
   "metadata": {},
   "source": [
    "## Advanced conditions\n",
    "\n",
    "You can combibe some conditions into more easy to grasp conditions"
   ]
  },
  {
   "cell_type": "code",
   "execution_count": null,
   "metadata": {},
   "outputs": [],
   "source": [
    "var = 1\n",
    "var2 = 3\n",
    "var3 = 0\n",
    "\n",
    "if 0 < var < 2:\n",
    "    print(\"Hello\")\n",
    "    \n",
    "if var3 < var < var2:\n",
    "    print(\"Hello 2\")"
   ]
  },
  {
   "cell_type": "code",
   "execution_count": null,
   "metadata": {},
   "outputs": [],
   "source": [
    "searching_for = \"Matti\"\n",
    "\n",
    "for line in open(\"male.txt\"):\n",
    "    line = line.strip()\n",
    "    if line == searching_for:\n",
    "        print(\"Male name\")\n",
    "\n",
    "for line in open(\"female.txt\"):\n",
    "    line = line.strip()\n",
    "    if line == searching_for:\n",
    "        print(\"Female name\")"
   ]
  },
  {
   "cell_type": "code",
   "execution_count": null,
   "metadata": {},
   "outputs": [],
   "source": []
  }
 ],
 "metadata": {
  "kernelspec": {
   "display_name": "Python 3",
   "language": "python",
   "name": "python3"
  },
  "language_info": {
   "codemirror_mode": {
    "name": "ipython",
    "version": 3
   },
   "file_extension": ".py",
   "mimetype": "text/x-python",
   "name": "python",
   "nbconvert_exporter": "python",
   "pygments_lexer": "ipython3",
   "version": "3.7.1"
  }
 },
 "nbformat": 4,
 "nbformat_minor": 2
}
