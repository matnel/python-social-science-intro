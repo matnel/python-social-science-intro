{
 "cells": [
  {
   "cell_type": "markdown",
   "metadata": {},
   "source": [
    "## Working with dictionaries and lists\n",
    "\n",
    "**Dictionaries** are data structures were within one variable, you can store several different values and separate the values by their keys. Thin this as a phonebook: within the phonebook, you store several phone numbers but store them by the name of the person."
   ]
  },
  {
   "cell_type": "code",
   "execution_count": null,
   "metadata": {},
   "outputs": [],
   "source": [
    "dictionary = {}\n",
    "\n",
    "dictionary['key'] = 'value'\n",
    "dictionary['second key'] = 'another value'\n",
    "\n",
    "print( dictionary )"
   ]
  },
  {
   "cell_type": "markdown",
   "metadata": {},
   "source": [
    "**Lists** are data structures where within one variable, you can store several different values. Howeverm you can not store these variables by their keys. Think this as a basket: you put stuff there, but you can not really separate them in the same ways as you do with the dictionary."
   ]
  },
  {
   "cell_type": "code",
   "execution_count": null,
   "metadata": {},
   "outputs": [],
   "source": [
    "lists = []\n",
    "\n",
    "lists.append('a value')\n",
    "lists.append('a second value')\n",
    "\n",
    "print( lists )"
   ]
  },
  {
   "cell_type": "markdown",
   "metadata": {},
   "source": [
    "## Dictionary as a list\n",
    "\n",
    "Test out what following things can do!"
   ]
  },
  {
   "cell_type": "code",
   "execution_count": null,
   "metadata": {},
   "outputs": [],
   "source": [
    "dictionary = {}\n",
    "\n",
    "dictionary['value1'] = 10\n",
    "dictionary['value2'] = 20\n",
    "dictionary['value3'] = 30\n",
    "\n",
    "print( dictionary.keys() )\n",
    "print( dictionary.values() )"
   ]
  },
  {
   "cell_type": "markdown",
   "metadata": {},
   "source": [
    "## Working with lists\n",
    "\n",
    "There are several advanced functions which help you to work with lists.\n",
    "Test these codes out and print the results of each command."
   ]
  },
  {
   "cell_type": "code",
   "execution_count": null,
   "metadata": {},
   "outputs": [],
   "source": [
    "min( dictionary.values() )\n",
    "max( dictionary.values() )\n",
    "sum( dictionary.values() )\n",
    "len( dictionary.values() )\n",
    "sorted( dictionary.values() )\n",
    "5 in dictionary.values()\n",
    "10 in dictionary.values()"
   ]
  },
  {
   "cell_type": "markdown",
   "metadata": {},
   "source": [
    "## Going through things..."
   ]
  },
  {
   "cell_type": "code",
   "execution_count": null,
   "metadata": {},
   "outputs": [],
   "source": [
    "for key, value in dictionary.items():\n",
    "    print( 'Key:', key , ' , value:', value )\n",
    "    \n",
    "for value in dictionary.values():\n",
    "    print( 'Value:', value )"
   ]
  },
  {
   "cell_type": "code",
   "execution_count": null,
   "metadata": {},
   "outputs": [],
   "source": []
  }
 ],
 "metadata": {
  "kernelspec": {
   "display_name": "Python 3",
   "language": "python",
   "name": "python3"
  },
  "language_info": {
   "codemirror_mode": {
    "name": "ipython",
    "version": 3
   },
   "file_extension": ".py",
   "mimetype": "text/x-python",
   "name": "python",
   "nbconvert_exporter": "python",
   "pygments_lexer": "ipython3",
   "version": "3.7.1"
  }
 },
 "nbformat": 4,
 "nbformat_minor": 2
}
