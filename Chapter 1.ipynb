{
 "cells": [
  {
   "cell_type": "markdown",
   "metadata": {},
   "source": [
    "During this chapter, we expore\n",
    "\n",
    "* variables and their operations\n",
    "* brancing code execution based on control structures\n",
    "* working with text content"
   ]
  },
  {
   "cell_type": "markdown",
   "metadata": {},
   "source": [
    "## Variables and their operations\n",
    "\n",
    "We can _assign_ variables particular values (numbers, text etc.) and _operate_ with those variables, such as increasing, decreasing, printing and changing values with them.\n",
    "\n",
    "![](scratch/chapter1_assign.png \"\")"
   ]
  },
  {
   "cell_type": "code",
   "execution_count": 1,
   "metadata": {},
   "outputs": [
    {
     "name": "stdout",
     "output_type": "stream",
     "text": [
      "1\n",
      "1\n",
      "2\n"
     ]
    }
   ],
   "source": [
    "a = 1\n",
    "b = 1\n",
    "c = a + b\n",
    "print(a)\n",
    "print(b)\n",
    "print(c)"
   ]
  },
  {
   "cell_type": "markdown",
   "metadata": {},
   "source": [
    "**Now you try** \n",
    "\n",
    "Can you compute the the sum, difference, quotient and multiplication of\n",
    "\n",
    "* 10 and 5\n",
    "* 13 and 6"
   ]
  },
  {
   "cell_type": "markdown",
   "metadata": {},
   "source": [
    "## Branching code execution\n",
    "\n",
    "Above, we have conducted the code line by line, from top to bottom.\n",
    "This is not the only approach: we can also branch_the code based on _conditions_.\n",
    "\n",
    "![](scratch/chapter1_if.png \"\")\n",
    "\n",
    "Here the final value of ``b`` depents on the value of ``a``"
   ]
  },
  {
   "cell_type": "code",
   "execution_count": 8,
   "metadata": {},
   "outputs": [
    {
     "name": "stdout",
     "output_type": "stream",
     "text": [
      "1\n",
      "10\n"
     ]
    }
   ],
   "source": [
    "a = 1\n",
    "b = 1\n",
    "if a > 0:\n",
    "    b = 10\n",
    "print(a)\n",
    "print(b)"
   ]
  },
  {
   "cell_type": "markdown",
   "metadata": {},
   "source": [
    "**Now you try** \n",
    "\n",
    "* What if ``a`` was -1?\n",
    "* Set ``a`` and ``b`` as 5. If the sum of a and b is higher than six, print out ``\"Sum is larger than six.\"```"
   ]
  },
  {
   "cell_type": "markdown",
   "metadata": {},
   "source": [
    "## Working with text content\n",
    "\n",
    "There are different types of variables. Above we have focused on number variables. Variables can also store other type of content, such as text.\n",
    "\n",
    "There are many things which can be done with text variables. Try out the following:"
   ]
  },
  {
   "cell_type": "code",
   "execution_count": null,
   "metadata": {},
   "outputs": [],
   "source": [
    "text = \"I have a cat.\"\n",
    "print( text.lower() )\n",
    "print( text.upper() )\n",
    "print( text.split(\" \")[0] )\n",
    "print( text.split(\" \")[1] )\n",
    "print( \"q\" in text )\n",
    "print( \"a\" in text )"
   ]
  },
  {
   "cell_type": "markdown",
   "metadata": {},
   "source": [
    "#### From text to numbers\n",
    "\n",
    "Try out the following commands"
   ]
  },
  {
   "cell_type": "code",
   "execution_count": null,
   "metadata": {},
   "outputs": [],
   "source": [
    "text1 = \"5\"\n",
    "text2 = \"5\"\n",
    "print( text1 + text2 )"
   ]
  },
  {
   "cell_type": "markdown",
   "metadata": {},
   "source": [
    "Variables which are texts do not operate like numbers! If you want to operate them like numbers, you need to make them numbers:"
   ]
  },
  {
   "cell_type": "code",
   "execution_count": null,
   "metadata": {},
   "outputs": [],
   "source": [
    "text1 = \"5\"\n",
    "number1 = float( text1 )\n",
    "text2 = \"5\"\n",
    "number2 = float( text2 )\n",
    "print( text1 + text2 )\n",
    "print( number1 + number2 )"
   ]
  }
 ],
 "metadata": {
  "kernelspec": {
   "display_name": "Python 3",
   "language": "python",
   "name": "python3"
  },
  "language_info": {
   "codemirror_mode": {
    "name": "ipython",
    "version": 3
   },
   "file_extension": ".py",
   "mimetype": "text/x-python",
   "name": "python",
   "nbconvert_exporter": "python",
   "pygments_lexer": "ipython3",
   "version": "3.7.1"
  }
 },
 "nbformat": 4,
 "nbformat_minor": 2
}
