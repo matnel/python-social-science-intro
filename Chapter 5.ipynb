{
 "cells": [
  {
   "cell_type": "markdown",
   "metadata": {},
   "source": [
    "## Advanced list functions\n",
    "\n",
    "Python lists allow many advanced operations. What do following commands do?"
   ]
  },
  {
   "cell_type": "code",
   "execution_count": null,
   "metadata": {},
   "outputs": [],
   "source": [
    "l = []\n",
    "\n",
    "l.append( 5 )\n",
    "l.append( 4 )\n",
    "l.append( 10 )\n",
    "l.append( 20 )\n",
    "l.append( 25 )"
   ]
  },
  {
   "cell_type": "code",
   "execution_count": null,
   "metadata": {},
   "outputs": [],
   "source": [
    "print( l )\n",
    "\n",
    "la = filter( lambda x: x > 9, l )\n",
    "print( list( la ) )\n",
    "\n",
    "lb = map( lambda x: x+1, l )\n",
    "print( list( lb ) )"
   ]
  },
  {
   "cell_type": "markdown",
   "metadata": {},
   "source": [
    "## Working with dictonaries\n",
    "\n",
    "* What does following error mean?\n",
    "\n",
    "```\n",
    "---------------------------------------------------------------------------\n",
    "KeyError                                  Traceback (most recent call last)\n",
    "<ipython-input-8-c80ee8e0b597> in <module>\n",
    "      1 a = {}\n",
    "----> 2 print( a[1] )\n",
    "\n",
    "KeyError: 1\n",
    "````\n",
    "\n",
    "Fix following code so that it does not cause this error."
   ]
  },
  {
   "cell_type": "code",
   "execution_count": null,
   "metadata": {},
   "outputs": [],
   "source": [
    "numbers = {}\n",
    "\n",
    "for i in range(1,10):\n",
    "    numbers[i] = numbers[i] + 1"
   ]
  },
  {
   "cell_type": "markdown",
   "metadata": {},
   "source": [
    "## Doing web requests\n",
    "\n",
    "Websites are created using HTML. For example, [example.com](http://example.com) for computer looks like this:\n",
    "\n",
    "```\n",
    "<!doctype html>\n",
    "<html>\n",
    "<head>\n",
    "    <title>Example Domain</title>\n",
    "</head>\n",
    "\n",
    "<body>\n",
    "<div>\n",
    "    <h1>Example Domain</h1>\n",
    "    <p>This domain is established to be used for illustrative examples in documents. You may use this\n",
    "    domain in examples without prior coordination or asking for permission.</p>\n",
    "    <p><a href=\"http://www.iana.org/domains/example\">More information...</a></p>\n",
    "</div>\n",
    "</body>\n",
    "</html>\n",
    "```\n",
    "\n",
    "... So, they are text and they can be managed as text:"
   ]
  },
  {
   "cell_type": "code",
   "execution_count": null,
   "metadata": {},
   "outputs": [],
   "source": [
    "import urllib.request\n",
    "\n",
    "website = urllib.request.urlopen('http://example.com')\n",
    "text_on_site = str( website.read() ).lower()\n",
    "\n",
    "print( 'domain' in text_on_site )\n",
    "print( 'cat' in text_on_site )"
   ]
  },
  {
   "cell_type": "code",
   "execution_count": null,
   "metadata": {},
   "outputs": [],
   "source": []
  }
 ],
 "metadata": {
  "kernelspec": {
   "display_name": "Python 3",
   "language": "python",
   "name": "python3"
  },
  "language_info": {
   "codemirror_mode": {
    "name": "ipython",
    "version": 3
   },
   "file_extension": ".py",
   "mimetype": "text/x-python",
   "name": "python",
   "nbconvert_exporter": "python",
   "pygments_lexer": "ipython3",
   "version": "3.7.1"
  }
 },
 "nbformat": 4,
 "nbformat_minor": 2
}
